{
 "cells": [
  {
   "cell_type": "code",
   "execution_count": 0,
   "metadata": {
    "application/vnd.databricks.v1+cell": {
     "cellMetadata": {
      "byteLimit": 2048000,
      "rowLimit": 10000
     },
     "inputWidgets": {},
     "nuid": "c99224a1-590a-4286-9ae2-11a1927836b7",
     "showTitle": false,
     "tableResultSettingsMap": {},
     "title": ""
    }
   },
   "outputs": [],
   "source": [
    "%run ./streeming_word_count"
   ]
  },
  {
   "cell_type": "code",
   "execution_count": 0,
   "metadata": {
    "application/vnd.databricks.v1+cell": {
     "cellMetadata": {
      "byteLimit": 2048000,
      "rowLimit": 10000
     },
     "inputWidgets": {},
     "nuid": "ee2f8e43-83a4-4151-a3fd-941d86fc319b",
     "showTitle": false,
     "tableResultSettingsMap": {},
     "title": ""
    }
   },
   "outputs": [],
   "source": [
    "class WcTestSuite():\n",
    "    def __init__(self,base_dir):\n",
    "        self.base_dir = base_dir\n",
    "\n",
    "    def cleanupTests(self):\n",
    "        print(\"cleanup started...\")\n",
    "        spark.sql(\"drop table if exists streeming.demo_db.word_count\")\n",
    "        dbutils.fs.rm(f\"{self.base_dir}/data/text\",True)\n",
    "        dbutils.fs.mkdirs(f\"{self.base_dir}/data/text\")\n",
    "        print(\"done\")\n",
    "        \n",
    "    \n",
    "    def ingest_iteration(self,iter):\n",
    "        print(\"ingestion started...\")\n",
    "        dbutils.fs.cp(f\"{self.base_dir}/ingestion/text_data_{iter}.txt\",f\"{self.base_dir}/data/text\",True)\n",
    "        print(\"done\")\n",
    "\n",
    "    def run_test(self,expected_count):\n",
    "        print(\"Test started...\")\n",
    "        actual_count = spark.sql(\"select sum(count) from streeming.demo_db.word_count where substr(word,1,1) = 's'\").collect()[0][0]\n",
    "        assert actual_count == expected_count, f\"Test failed actual count is {actual_count} \"\n",
    "        print(\"done\")\n",
    "\n",
    "    def run_test_suite(self): \n",
    "        wc = BatchWC(self.base_dir)\n",
    "\n",
    "        print(\"testing iteration 1\")\n",
    "        self.cleanupTests()\n",
    "        self.ingest_iteration(1)\n",
    "        wc.word_count()\n",
    "        self.run_test(25)\n",
    "        print(\"first iteration batch word count completed\")\n",
    "\n",
    "        print(\"testing iteration 2\")\n",
    "        self.cleanupTests()\n",
    "        self.ingest_iteration(2)\n",
    "        wc.word_count()\n",
    "        self.run_test(7)\n",
    "        print(\"second iteration batch word count completed\")\n",
    "\n",
    "        print(\"testing iteration 3\")\n",
    "        self.cleanupTests()\n",
    "        self.ingest_iteration(3)\n",
    "        wc.word_count()\n",
    "        self.run_test(5)\n",
    "        print(\"third iteration batch word count completed\")\n",
    "        \n",
    "    \n",
    "        \n",
    "\n",
    "    \n"
   ]
  },
  {
   "cell_type": "code",
   "execution_count": 0,
   "metadata": {
    "application/vnd.databricks.v1+cell": {
     "cellMetadata": {
      "byteLimit": 2048000,
      "rowLimit": 10000
     },
     "inputWidgets": {},
     "nuid": "1c920454-e36f-4ed0-88f5-6d64d1754f23",
     "showTitle": false,
     "tableResultSettingsMap": {},
     "title": ""
    }
   },
   "outputs": [],
   "source": [
    "test = WcTestSuite('/Volumes/streeming/demo_db/datasource')\n",
    "test.run_test_suite()"
   ]
  }
 ],
 "metadata": {
  "application/vnd.databricks.v1+notebook": {
   "computePreferences": null,
   "dashboards": [],
   "environmentMetadata": {
    "base_environment": "",
    "client": "1"
   },
   "language": "python",
   "notebookMetadata": {
    "pythonIndentUnit": 4
   },
   "notebookName": "streeming_wordcount_test_suite",
   "widgets": {}
  },
  "language_info": {
   "name": "python"
  }
 },
 "nbformat": 4,
 "nbformat_minor": 0
}
